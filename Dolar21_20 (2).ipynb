{
  "nbformat": 4,
  "nbformat_minor": 0,
  "metadata": {
    "colab": {
      "name": "Dolar21_20.ipynb",
      "provenance": [],
      "collapsed_sections": []
    },
    "kernelspec": {
      "name": "python3",
      "display_name": "Python 3"
    },
    "language_info": {
      "name": "python"
    }
  },
  "cells": [
    {
      "cell_type": "markdown",
      "metadata": {
        "id": "Q29YOuT-xxvS"
      },
      "source": [
        "Importo las librerias"
      ]
    },
    {
      "cell_type": "code",
      "metadata": {
        "id": "4USdnzoNezXZ"
      },
      "source": [
        "import requests\n",
        "import pandas as pd\n",
        "import pprint"
      ],
      "execution_count": null,
      "outputs": []
    },
    {
      "cell_type": "markdown",
      "metadata": {
        "id": "x-hCZDemx4Qm"
      },
      "source": [
        "Llamo al url de la API del Banco Central"
      ]
    },
    {
      "cell_type": "code",
      "metadata": {
        "id": "v4rTplxie9YJ"
      },
      "source": [
        "marzo20 = requests.get(\"https://si3.bcentral.cl/SieteRestWS/SieteRestWS.ashx?user=160176997&pass=mrR4GZQoawBl&firstdate=2020-03-01&lastdate=2020-03-31&timeseries=F073.TCO.PRE.Z.D&function=GetSeries\")\n",
        "marzo21 = requests.get(\"https://si3.bcentral.cl/SieteRestWS/SieteRestWS.ashx?user=160176997&pass=mrR4GZQoawBl&firstdate=2021-03-01&lastdate=2021-03-31&timeseries=F073.TCO.PRE.Z.D&function=GetSeries\")"
      ],
      "execution_count": null,
      "outputs": []
    },
    {
      "cell_type": "markdown",
      "metadata": {
        "id": "EaLdTUQ_x-_W"
      },
      "source": [
        "Leo el archivo en formato JSON"
      ]
    },
    {
      "cell_type": "code",
      "metadata": {
        "id": "aMu1fQEDhS1i"
      },
      "source": [
        "marzo20 = marzo20.json()\n",
        "marzo21 = marzo21.json()"
      ],
      "execution_count": null,
      "outputs": []
    },
    {
      "cell_type": "code",
      "metadata": {
        "id": "l88n1_HnhYjd",
        "colab": {
          "base_uri": "https://localhost:8080/"
        },
        "outputId": "7f2f75fb-c9a2-4d05-ed7f-d1cb7a5781db"
      },
      "source": [
        "#pprint.pprint(marzo20)\n",
        "marzo20[\"Series\"][\"Obs\"]"
      ],
      "execution_count": null,
      "outputs": [
        {
          "output_type": "execute_result",
          "data": {
            "text/plain": [
              "[{'indexDateString': '02-03-2020', 'statusCode': 'OK', 'value': '818.32'},\n",
              " {'indexDateString': '03-03-2020', 'statusCode': 'OK', 'value': '817.45'},\n",
              " {'indexDateString': '04-03-2020', 'statusCode': 'OK', 'value': '809.81'},\n",
              " {'indexDateString': '05-03-2020', 'statusCode': 'OK', 'value': '812.19'},\n",
              " {'indexDateString': '06-03-2020', 'statusCode': 'OK', 'value': '823.28'},\n",
              " {'indexDateString': '07-03-2020', 'statusCode': 'ND', 'value': 'NeuN'},\n",
              " {'indexDateString': '08-03-2020', 'statusCode': 'ND', 'value': 'NeuN'},\n",
              " {'indexDateString': '09-03-2020', 'statusCode': 'OK', 'value': '828.95'},\n",
              " {'indexDateString': '10-03-2020', 'statusCode': 'OK', 'value': '841.06'},\n",
              " {'indexDateString': '11-03-2020', 'statusCode': 'OK', 'value': '834.22'},\n",
              " {'indexDateString': '12-03-2020', 'statusCode': 'OK', 'value': '835.48'},\n",
              " {'indexDateString': '13-03-2020', 'statusCode': 'OK', 'value': '852.06'},\n",
              " {'indexDateString': '14-03-2020', 'statusCode': 'ND', 'value': 'NeuN'},\n",
              " {'indexDateString': '15-03-2020', 'statusCode': 'ND', 'value': 'NeuN'},\n",
              " {'indexDateString': '16-03-2020', 'statusCode': 'OK', 'value': '836.66'},\n",
              " {'indexDateString': '17-03-2020', 'statusCode': 'OK', 'value': '850.51'},\n",
              " {'indexDateString': '18-03-2020', 'statusCode': 'OK', 'value': '855.09'},\n",
              " {'indexDateString': '19-03-2020', 'statusCode': 'OK', 'value': '862.69'},\n",
              " {'indexDateString': '20-03-2020', 'statusCode': 'OK', 'value': '867.83'},\n",
              " {'indexDateString': '21-03-2020', 'statusCode': 'ND', 'value': 'NeuN'},\n",
              " {'indexDateString': '22-03-2020', 'statusCode': 'ND', 'value': 'NeuN'},\n",
              " {'indexDateString': '23-03-2020', 'statusCode': 'OK', 'value': '851.01'},\n",
              " {'indexDateString': '24-03-2020', 'statusCode': 'OK', 'value': '861.07'},\n",
              " {'indexDateString': '25-03-2020', 'statusCode': 'OK', 'value': '847.04'},\n",
              " {'indexDateString': '26-03-2020', 'statusCode': 'OK', 'value': '843.96'},\n",
              " {'indexDateString': '27-03-2020', 'statusCode': 'OK', 'value': '836.05'},\n",
              " {'indexDateString': '28-03-2020', 'statusCode': 'ND', 'value': 'NeuN'},\n",
              " {'indexDateString': '29-03-2020', 'statusCode': 'ND', 'value': 'NeuN'},\n",
              " {'indexDateString': '30-03-2020', 'statusCode': 'OK', 'value': '835.23'},\n",
              " {'indexDateString': '31-03-2020', 'statusCode': 'OK', 'value': '846.3'}]"
            ]
          },
          "metadata": {},
          "execution_count": 10
        }
      ]
    },
    {
      "cell_type": "markdown",
      "metadata": {
        "id": "QU6tMKWXyQI5"
      },
      "source": [
        "Transformo el JSON en DataFrame para la manipulación"
      ]
    },
    {
      "cell_type": "code",
      "metadata": {
        "id": "_nJpzNf8q9aW"
      },
      "source": [
        "df_marzo20 = pd.DataFrame(marzo20[\"Series\"][\"Obs\"])\n",
        "df_marzo21 = pd.DataFrame(marzo21[\"Series\"][\"Obs\"])"
      ],
      "execution_count": null,
      "outputs": []
    },
    {
      "cell_type": "code",
      "metadata": {
        "id": "ScE9TFzRkgA-"
      },
      "source": [
        "lista_dolar = []\n",
        "\n",
        "for dolar in marzo20[\"Series\"][\"Obs\"]:\n",
        "  lista_dolar.append(dolar[\"value\"])"
      ],
      "execution_count": null,
      "outputs": []
    },
    {
      "cell_type": "code",
      "metadata": {
        "id": "XIGnB_0GqszV",
        "colab": {
          "base_uri": "https://localhost:8080/",
          "height": 1000
        },
        "outputId": "13ac9735-d940-4b74-e7f5-462c1cb20a63"
      },
      "source": [
        "df_marzo21"
      ],
      "execution_count": null,
      "outputs": [
        {
          "output_type": "execute_result",
          "data": {
            "text/html": [
              "<div>\n",
              "<style scoped>\n",
              "    .dataframe tbody tr th:only-of-type {\n",
              "        vertical-align: middle;\n",
              "    }\n",
              "\n",
              "    .dataframe tbody tr th {\n",
              "        vertical-align: top;\n",
              "    }\n",
              "\n",
              "    .dataframe thead th {\n",
              "        text-align: right;\n",
              "    }\n",
              "</style>\n",
              "<table border=\"1\" class=\"dataframe\">\n",
              "  <thead>\n",
              "    <tr style=\"text-align: right;\">\n",
              "      <th></th>\n",
              "      <th>indexDateString</th>\n",
              "      <th>value</th>\n",
              "      <th>statusCode</th>\n",
              "    </tr>\n",
              "  </thead>\n",
              "  <tbody>\n",
              "    <tr>\n",
              "      <th>0</th>\n",
              "      <td>01-03-2021</td>\n",
              "      <td>719.91</td>\n",
              "      <td>OK</td>\n",
              "    </tr>\n",
              "    <tr>\n",
              "      <th>1</th>\n",
              "      <td>02-03-2021</td>\n",
              "      <td>721.2</td>\n",
              "      <td>OK</td>\n",
              "    </tr>\n",
              "    <tr>\n",
              "      <th>2</th>\n",
              "      <td>03-03-2021</td>\n",
              "      <td>726.74</td>\n",
              "      <td>OK</td>\n",
              "    </tr>\n",
              "    <tr>\n",
              "      <th>3</th>\n",
              "      <td>04-03-2021</td>\n",
              "      <td>731.3</td>\n",
              "      <td>OK</td>\n",
              "    </tr>\n",
              "    <tr>\n",
              "      <th>4</th>\n",
              "      <td>05-03-2021</td>\n",
              "      <td>729.15</td>\n",
              "      <td>OK</td>\n",
              "    </tr>\n",
              "    <tr>\n",
              "      <th>5</th>\n",
              "      <td>06-03-2021</td>\n",
              "      <td>NeuN</td>\n",
              "      <td>ND</td>\n",
              "    </tr>\n",
              "    <tr>\n",
              "      <th>6</th>\n",
              "      <td>07-03-2021</td>\n",
              "      <td>NeuN</td>\n",
              "      <td>ND</td>\n",
              "    </tr>\n",
              "    <tr>\n",
              "      <th>7</th>\n",
              "      <td>08-03-2021</td>\n",
              "      <td>733.11</td>\n",
              "      <td>OK</td>\n",
              "    </tr>\n",
              "    <tr>\n",
              "      <th>8</th>\n",
              "      <td>09-03-2021</td>\n",
              "      <td>738.46</td>\n",
              "      <td>OK</td>\n",
              "    </tr>\n",
              "    <tr>\n",
              "      <th>9</th>\n",
              "      <td>10-03-2021</td>\n",
              "      <td>733.42</td>\n",
              "      <td>OK</td>\n",
              "    </tr>\n",
              "    <tr>\n",
              "      <th>10</th>\n",
              "      <td>11-03-2021</td>\n",
              "      <td>728.89</td>\n",
              "      <td>OK</td>\n",
              "    </tr>\n",
              "    <tr>\n",
              "      <th>11</th>\n",
              "      <td>12-03-2021</td>\n",
              "      <td>718.4</td>\n",
              "      <td>OK</td>\n",
              "    </tr>\n",
              "    <tr>\n",
              "      <th>12</th>\n",
              "      <td>13-03-2021</td>\n",
              "      <td>NeuN</td>\n",
              "      <td>ND</td>\n",
              "    </tr>\n",
              "    <tr>\n",
              "      <th>13</th>\n",
              "      <td>14-03-2021</td>\n",
              "      <td>NeuN</td>\n",
              "      <td>ND</td>\n",
              "    </tr>\n",
              "    <tr>\n",
              "      <th>14</th>\n",
              "      <td>15-03-2021</td>\n",
              "      <td>718.37</td>\n",
              "      <td>OK</td>\n",
              "    </tr>\n",
              "    <tr>\n",
              "      <th>15</th>\n",
              "      <td>16-03-2021</td>\n",
              "      <td>721.49</td>\n",
              "      <td>OK</td>\n",
              "    </tr>\n",
              "    <tr>\n",
              "      <th>16</th>\n",
              "      <td>17-03-2021</td>\n",
              "      <td>723.47</td>\n",
              "      <td>OK</td>\n",
              "    </tr>\n",
              "    <tr>\n",
              "      <th>17</th>\n",
              "      <td>18-03-2021</td>\n",
              "      <td>730.93</td>\n",
              "      <td>OK</td>\n",
              "    </tr>\n",
              "    <tr>\n",
              "      <th>18</th>\n",
              "      <td>19-03-2021</td>\n",
              "      <td>724.59</td>\n",
              "      <td>OK</td>\n",
              "    </tr>\n",
              "    <tr>\n",
              "      <th>19</th>\n",
              "      <td>20-03-2021</td>\n",
              "      <td>NeuN</td>\n",
              "      <td>ND</td>\n",
              "    </tr>\n",
              "    <tr>\n",
              "      <th>20</th>\n",
              "      <td>21-03-2021</td>\n",
              "      <td>NeuN</td>\n",
              "      <td>ND</td>\n",
              "    </tr>\n",
              "    <tr>\n",
              "      <th>21</th>\n",
              "      <td>22-03-2021</td>\n",
              "      <td>717.96</td>\n",
              "      <td>OK</td>\n",
              "    </tr>\n",
              "    <tr>\n",
              "      <th>22</th>\n",
              "      <td>23-03-2021</td>\n",
              "      <td>716.46</td>\n",
              "      <td>OK</td>\n",
              "    </tr>\n",
              "    <tr>\n",
              "      <th>23</th>\n",
              "      <td>24-03-2021</td>\n",
              "      <td>720.62</td>\n",
              "      <td>OK</td>\n",
              "    </tr>\n",
              "    <tr>\n",
              "      <th>24</th>\n",
              "      <td>25-03-2021</td>\n",
              "      <td>723.35</td>\n",
              "      <td>OK</td>\n",
              "    </tr>\n",
              "    <tr>\n",
              "      <th>25</th>\n",
              "      <td>26-03-2021</td>\n",
              "      <td>730.82</td>\n",
              "      <td>OK</td>\n",
              "    </tr>\n",
              "    <tr>\n",
              "      <th>26</th>\n",
              "      <td>27-03-2021</td>\n",
              "      <td>NeuN</td>\n",
              "      <td>ND</td>\n",
              "    </tr>\n",
              "    <tr>\n",
              "      <th>27</th>\n",
              "      <td>28-03-2021</td>\n",
              "      <td>NeuN</td>\n",
              "      <td>ND</td>\n",
              "    </tr>\n",
              "    <tr>\n",
              "      <th>28</th>\n",
              "      <td>29-03-2021</td>\n",
              "      <td>729.5</td>\n",
              "      <td>OK</td>\n",
              "    </tr>\n",
              "    <tr>\n",
              "      <th>29</th>\n",
              "      <td>30-03-2021</td>\n",
              "      <td>736.17</td>\n",
              "      <td>OK</td>\n",
              "    </tr>\n",
              "    <tr>\n",
              "      <th>30</th>\n",
              "      <td>31-03-2021</td>\n",
              "      <td>732.11</td>\n",
              "      <td>OK</td>\n",
              "    </tr>\n",
              "  </tbody>\n",
              "</table>\n",
              "</div>"
            ],
            "text/plain": [
              "   indexDateString   value statusCode\n",
              "0       01-03-2021  719.91         OK\n",
              "1       02-03-2021   721.2         OK\n",
              "2       03-03-2021  726.74         OK\n",
              "3       04-03-2021   731.3         OK\n",
              "4       05-03-2021  729.15         OK\n",
              "5       06-03-2021    NeuN         ND\n",
              "6       07-03-2021    NeuN         ND\n",
              "7       08-03-2021  733.11         OK\n",
              "8       09-03-2021  738.46         OK\n",
              "9       10-03-2021  733.42         OK\n",
              "10      11-03-2021  728.89         OK\n",
              "11      12-03-2021   718.4         OK\n",
              "12      13-03-2021    NeuN         ND\n",
              "13      14-03-2021    NeuN         ND\n",
              "14      15-03-2021  718.37         OK\n",
              "15      16-03-2021  721.49         OK\n",
              "16      17-03-2021  723.47         OK\n",
              "17      18-03-2021  730.93         OK\n",
              "18      19-03-2021  724.59         OK\n",
              "19      20-03-2021    NeuN         ND\n",
              "20      21-03-2021    NeuN         ND\n",
              "21      22-03-2021  717.96         OK\n",
              "22      23-03-2021  716.46         OK\n",
              "23      24-03-2021  720.62         OK\n",
              "24      25-03-2021  723.35         OK\n",
              "25      26-03-2021  730.82         OK\n",
              "26      27-03-2021    NeuN         ND\n",
              "27      28-03-2021    NeuN         ND\n",
              "28      29-03-2021   729.5         OK\n",
              "29      30-03-2021  736.17         OK\n",
              "30      31-03-2021  732.11         OK"
            ]
          },
          "metadata": {},
          "execution_count": 12
        }
      ]
    },
    {
      "cell_type": "markdown",
      "metadata": {
        "id": "EKAizJQpyXtg"
      },
      "source": [
        "Transformo el valor \"Dolar\" a número"
      ]
    },
    {
      "cell_type": "code",
      "metadata": {
        "id": "uwjrwjYBrZws"
      },
      "source": [
        "#pandas.to_numeric(arg, errors=’raise’, downcast=None)\n",
        "df_marzo20[\"value\"] = pd.to_numeric(df_marzo20[\"value\"], errors=\"coerce\")\n",
        "df_marzo21[\"value\"] = pd.to_numeric(df_marzo21[\"value\"], errors=\"coerce\")"
      ],
      "execution_count": null,
      "outputs": []
    },
    {
      "cell_type": "markdown",
      "metadata": {
        "id": "d212J-qfyfJj"
      },
      "source": [
        "Transformo el valor \"Dolar\" del fin de semana al valor del día lunes"
      ]
    },
    {
      "cell_type": "code",
      "metadata": {
        "colab": {
          "base_uri": "https://localhost:8080/"
        },
        "id": "sd_10uAqujvS",
        "outputId": "ab644633-e015-4db4-b5d5-34931e55eadd"
      },
      "source": [
        "df_marzo20[\"value\"].iloc[5] = df_marzo20[\"value\"].iloc[7]\n",
        "df_marzo20[\"value\"].iloc[6] = df_marzo20[\"value\"].iloc[7]\n",
        "\n",
        "df_marzo20[\"value\"].iloc[12] = df_marzo20[\"value\"].iloc[14]\n",
        "df_marzo20[\"value\"].iloc[13] = df_marzo20[\"value\"].iloc[14]\n",
        "\n",
        "df_marzo20[\"value\"].iloc[19] = df_marzo20[\"value\"].iloc[21]\n",
        "df_marzo20[\"value\"].iloc[20] = df_marzo20[\"value\"].iloc[21]\n",
        "\n",
        "df_marzo20[\"value\"].iloc[26] = df_marzo20[\"value\"].iloc[28]\n",
        "df_marzo20[\"value\"].iloc[27] = df_marzo20[\"value\"].iloc[28]"
      ],
      "execution_count": null,
      "outputs": [
        {
          "output_type": "stream",
          "name": "stderr",
          "text": [
            "/usr/local/lib/python3.7/dist-packages/pandas/core/indexing.py:670: SettingWithCopyWarning: \n",
            "A value is trying to be set on a copy of a slice from a DataFrame\n",
            "\n",
            "See the caveats in the documentation: https://pandas.pydata.org/pandas-docs/stable/user_guide/indexing.html#returning-a-view-versus-a-copy\n",
            "  iloc._setitem_with_indexer(indexer, value)\n"
          ]
        }
      ]
    },
    {
      "cell_type": "code",
      "metadata": {
        "colab": {
          "base_uri": "https://localhost:8080/"
        },
        "id": "b-hnoWPpqd08",
        "outputId": "084b9709-4999-45e3-87ec-28ce7c8d01ce"
      },
      "source": [
        "df_marzo21[\"value\"].iloc[5] = df_marzo21[\"value\"].iloc[7]\n",
        "df_marzo21[\"value\"].iloc[6] = df_marzo21[\"value\"].iloc[7]\n",
        "\n",
        "df_marzo21[\"value\"].iloc[12] = df_marzo21[\"value\"].iloc[14]\n",
        "df_marzo21[\"value\"].iloc[13] = df_marzo21[\"value\"].iloc[14]\n",
        "\n",
        "df_marzo21[\"value\"].iloc[19] = df_marzo21[\"value\"].iloc[21]\n",
        "df_marzo21[\"value\"].iloc[20] = df_marzo21[\"value\"].iloc[21]\n",
        "\n",
        "df_marzo21[\"value\"].iloc[26] = df_marzo21[\"value\"].iloc[28]\n",
        "df_marzo21[\"value\"].iloc[27] = df_marzo21[\"value\"].iloc[28]"
      ],
      "execution_count": null,
      "outputs": [
        {
          "output_type": "stream",
          "name": "stderr",
          "text": [
            "/usr/local/lib/python3.7/dist-packages/pandas/core/indexing.py:670: SettingWithCopyWarning: \n",
            "A value is trying to be set on a copy of a slice from a DataFrame\n",
            "\n",
            "See the caveats in the documentation: https://pandas.pydata.org/pandas-docs/stable/user_guide/indexing.html#returning-a-view-versus-a-copy\n",
            "  iloc._setitem_with_indexer(indexer, value)\n"
          ]
        }
      ]
    },
    {
      "cell_type": "markdown",
      "metadata": {
        "id": "5CKFzrLZyp8V"
      },
      "source": [
        "Seleciono solo las columnas Fechas y Dolar"
      ]
    },
    {
      "cell_type": "code",
      "metadata": {
        "id": "CVI8H-CaxHR3"
      },
      "source": [
        "df_marzo20 = df_marzo20[[\"indexDateString\", \"value\"]]\n",
        "df_marzo21 = df_marzo21[[\"indexDateString\", \"value\"]]"
      ],
      "execution_count": null,
      "outputs": []
    },
    {
      "cell_type": "markdown",
      "metadata": {
        "id": "NvqSAsG4ywlU"
      },
      "source": [
        "Convierto el DataFrame en archivo CSV"
      ]
    },
    {
      "cell_type": "code",
      "metadata": {
        "id": "rWg13jCKvZmS"
      },
      "source": [
        "df_marzo20.to_csv(\"dolar_mar_20.csv\")"
      ],
      "execution_count": null,
      "outputs": []
    },
    {
      "cell_type": "code",
      "metadata": {
        "id": "IvWmwEJAwKH-"
      },
      "source": [
        "df_marzo21.to_csv(\"dolar_mar_21.csv\")"
      ],
      "execution_count": null,
      "outputs": []
    }
  ]
}